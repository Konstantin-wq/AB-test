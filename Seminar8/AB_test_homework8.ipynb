{
 "cells": [
  {
   "cell_type": "markdown",
   "id": "19f5378c",
   "metadata": {},
   "source": [
    "# Задача"
   ]
  },
  {
   "cell_type": "markdown",
   "id": "ae3586c4",
   "metadata": {},
   "source": [
    "На сайте запущен А/В тест с целью увеличить доход. В приложенном excel файле вы найдете сырые данные по результатам эксперимента – user_id, тип выборки variant_name и доход принесенный пользователем revenue.\n",
    "Проанализируйте результаты эксперимента и напишите свои рекомендации менеджеру."
   ]
  },
  {
   "cell_type": "code",
   "execution_count": 1,
   "id": "8f65d41e",
   "metadata": {},
   "outputs": [],
   "source": [
    "\n",
    "from tqdm import tqdm # Прогресс бар\n",
    "\n",
    "import pandas as pd\n",
    "import numpy as np\n",
    "\n",
    "import seaborn as sns\n",
    "import matplotlib.pyplot as plt\n",
    "\n",
    "from scipy import stats\n",
    "from statsmodels.stats.meta_analysis import effectsize_smd\n",
    "from statsmodels.stats import proportion\n",
    "from statsmodels.stats.power import tt_ind_solve_power\n",
    "from statsmodels.stats.power import zt_ind_solve_power\n"
   ]
  },
  {
   "cell_type": "code",
   "execution_count": 2,
   "id": "4e34b69a",
   "metadata": {},
   "outputs": [],
   "source": [
    "from scipy.stats import ttest_1samp\n",
    "import numpy as np\n",
    "\n",
    "import warnings\n",
    "warnings.filterwarnings('ignore')\n",
    "warnings.warn('DelftStack')\n",
    "warnings.warn('Do not show this message')\n",
    "\n"
   ]
  },
  {
   "cell_type": "markdown",
   "id": "b412d82c",
   "metadata": {},
   "source": [
    "## Подготовка данных к анализу"
   ]
  },
  {
   "cell_type": "markdown",
   "id": "b3af9b76",
   "metadata": {},
   "source": [
    "### Загружаем сырые данные для анализа"
   ]
  },
  {
   "cell_type": "code",
   "execution_count": 3,
   "id": "b07c7590",
   "metadata": {},
   "outputs": [],
   "source": [
    "raw_data = pd.read_excel('data/gb_sem_8_hm.xlsx')"
   ]
  },
  {
   "cell_type": "code",
   "execution_count": 4,
   "id": "b96b4826",
   "metadata": {},
   "outputs": [
    {
     "data": {
      "text/html": [
       "<div>\n",
       "<style scoped>\n",
       "    .dataframe tbody tr th:only-of-type {\n",
       "        vertical-align: middle;\n",
       "    }\n",
       "\n",
       "    .dataframe tbody tr th {\n",
       "        vertical-align: top;\n",
       "    }\n",
       "\n",
       "    .dataframe thead th {\n",
       "        text-align: right;\n",
       "    }\n",
       "</style>\n",
       "<table border=\"1\" class=\"dataframe\">\n",
       "  <thead>\n",
       "    <tr style=\"text-align: right;\">\n",
       "      <th></th>\n",
       "      <th>USER_ID</th>\n",
       "      <th>VARIANT_NAME</th>\n",
       "      <th>REVENUE</th>\n",
       "    </tr>\n",
       "  </thead>\n",
       "  <tbody>\n",
       "    <tr>\n",
       "      <th>0</th>\n",
       "      <td>737</td>\n",
       "      <td>variant</td>\n",
       "      <td>0.0</td>\n",
       "    </tr>\n",
       "    <tr>\n",
       "      <th>1</th>\n",
       "      <td>2423</td>\n",
       "      <td>control</td>\n",
       "      <td>0.0</td>\n",
       "    </tr>\n",
       "    <tr>\n",
       "      <th>2</th>\n",
       "      <td>9411</td>\n",
       "      <td>control</td>\n",
       "      <td>0.0</td>\n",
       "    </tr>\n",
       "    <tr>\n",
       "      <th>3</th>\n",
       "      <td>7311</td>\n",
       "      <td>control</td>\n",
       "      <td>0.0</td>\n",
       "    </tr>\n",
       "    <tr>\n",
       "      <th>4</th>\n",
       "      <td>6174</td>\n",
       "      <td>variant</td>\n",
       "      <td>0.0</td>\n",
       "    </tr>\n",
       "    <tr>\n",
       "      <th>5</th>\n",
       "      <td>2380</td>\n",
       "      <td>variant</td>\n",
       "      <td>0.0</td>\n",
       "    </tr>\n",
       "    <tr>\n",
       "      <th>6</th>\n",
       "      <td>2849</td>\n",
       "      <td>control</td>\n",
       "      <td>0.0</td>\n",
       "    </tr>\n",
       "    <tr>\n",
       "      <th>7</th>\n",
       "      <td>9168</td>\n",
       "      <td>control</td>\n",
       "      <td>0.0</td>\n",
       "    </tr>\n",
       "    <tr>\n",
       "      <th>8</th>\n",
       "      <td>6205</td>\n",
       "      <td>variant</td>\n",
       "      <td>0.0</td>\n",
       "    </tr>\n",
       "    <tr>\n",
       "      <th>9</th>\n",
       "      <td>7548</td>\n",
       "      <td>control</td>\n",
       "      <td>0.0</td>\n",
       "    </tr>\n",
       "  </tbody>\n",
       "</table>\n",
       "</div>"
      ],
      "text/plain": [
       "   USER_ID VARIANT_NAME  REVENUE\n",
       "0      737      variant      0.0\n",
       "1     2423      control      0.0\n",
       "2     9411      control      0.0\n",
       "3     7311      control      0.0\n",
       "4     6174      variant      0.0\n",
       "5     2380      variant      0.0\n",
       "6     2849      control      0.0\n",
       "7     9168      control      0.0\n",
       "8     6205      variant      0.0\n",
       "9     7548      control      0.0"
      ]
     },
     "execution_count": 4,
     "metadata": {},
     "output_type": "execute_result"
    }
   ],
   "source": [
    "raw_data.head(10)"
   ]
  },
  {
   "cell_type": "code",
   "execution_count": 5,
   "id": "584617b0",
   "metadata": {},
   "outputs": [
    {
     "name": "stdout",
     "output_type": "stream",
     "text": [
      "<class 'pandas.core.frame.DataFrame'>\n",
      "RangeIndex: 10000 entries, 0 to 9999\n",
      "Data columns (total 3 columns):\n",
      " #   Column        Non-Null Count  Dtype  \n",
      "---  ------        --------------  -----  \n",
      " 0   USER_ID       10000 non-null  int64  \n",
      " 1   VARIANT_NAME  10000 non-null  object \n",
      " 2   REVENUE       10000 non-null  float64\n",
      "dtypes: float64(1), int64(1), object(1)\n",
      "memory usage: 234.5+ KB\n"
     ]
    }
   ],
   "source": [
    "raw_data.info()"
   ]
  },
  {
   "cell_type": "code",
   "execution_count": 6,
   "id": "9cc016da",
   "metadata": {},
   "outputs": [
    {
     "data": {
      "text/plain": [
       "(10000, 3)"
      ]
     },
     "execution_count": 6,
     "metadata": {},
     "output_type": "execute_result"
    }
   ],
   "source": [
    "raw_data.shape"
   ]
  },
  {
   "cell_type": "code",
   "execution_count": 7,
   "id": "b49a81d7",
   "metadata": {},
   "outputs": [
    {
     "data": {
      "text/plain": [
       "USER_ID         0\n",
       "VARIANT_NAME    0\n",
       "REVENUE         0\n",
       "dtype: int64"
      ]
     },
     "execution_count": 7,
     "metadata": {},
     "output_type": "execute_result"
    }
   ],
   "source": [
    "raw_data.isnull().sum()"
   ]
  },
  {
   "cell_type": "code",
   "execution_count": 8,
   "id": "ed0c0b16",
   "metadata": {},
   "outputs": [],
   "source": [
    "data = raw_data.drop_duplicates(['USER_ID','VARIANT_NAME'])"
   ]
  },
  {
   "cell_type": "code",
   "execution_count": 9,
   "id": "b87be58d",
   "metadata": {},
   "outputs": [
    {
     "data": {
      "text/plain": [
       "1    4783\n",
       "2    1541\n",
       "Name: VARIANT_NAME, dtype: int64"
      ]
     },
     "execution_count": 9,
     "metadata": {},
     "output_type": "execute_result"
    }
   ],
   "source": [
    "data.groupby('USER_ID', as_index=False).agg({'VARIANT_NAME': 'count'})['VARIANT_NAME'].value_counts()"
   ]
  },
  {
   "cell_type": "code",
   "execution_count": 10,
   "id": "606b38be",
   "metadata": {},
   "outputs": [],
   "source": [
    "doubles = data.groupby('USER_ID').agg({'VARIANT_NAME' : 'nunique'}).reset_index().query('VARIANT_NAME>1')['USER_ID'].unique()"
   ]
  },
  {
   "cell_type": "code",
   "execution_count": 11,
   "id": "b334a77a",
   "metadata": {},
   "outputs": [],
   "source": [
    "data = data.query('USER_ID not in @doubles')"
   ]
  },
  {
   "cell_type": "code",
   "execution_count": 12,
   "id": "7369d3d1",
   "metadata": {},
   "outputs": [
    {
     "data": {
      "text/html": [
       "<div>\n",
       "<style scoped>\n",
       "    .dataframe tbody tr th:only-of-type {\n",
       "        vertical-align: middle;\n",
       "    }\n",
       "\n",
       "    .dataframe tbody tr th {\n",
       "        vertical-align: top;\n",
       "    }\n",
       "\n",
       "    .dataframe thead th {\n",
       "        text-align: right;\n",
       "    }\n",
       "</style>\n",
       "<table border=\"1\" class=\"dataframe\">\n",
       "  <thead>\n",
       "    <tr style=\"text-align: right;\">\n",
       "      <th></th>\n",
       "      <th>USER_ID</th>\n",
       "      <th>REVENUE</th>\n",
       "    </tr>\n",
       "  </thead>\n",
       "  <tbody>\n",
       "    <tr>\n",
       "      <th>count</th>\n",
       "      <td>4783.000000</td>\n",
       "      <td>4783.000000</td>\n",
       "    </tr>\n",
       "    <tr>\n",
       "      <th>mean</th>\n",
       "      <td>4994.395777</td>\n",
       "      <td>0.110138</td>\n",
       "    </tr>\n",
       "    <tr>\n",
       "      <th>std</th>\n",
       "      <td>2898.618472</td>\n",
       "      <td>2.948720</td>\n",
       "    </tr>\n",
       "    <tr>\n",
       "      <th>min</th>\n",
       "      <td>2.000000</td>\n",
       "      <td>0.000000</td>\n",
       "    </tr>\n",
       "    <tr>\n",
       "      <th>25%</th>\n",
       "      <td>2476.000000</td>\n",
       "      <td>0.000000</td>\n",
       "    </tr>\n",
       "    <tr>\n",
       "      <th>50%</th>\n",
       "      <td>4975.000000</td>\n",
       "      <td>0.000000</td>\n",
       "    </tr>\n",
       "    <tr>\n",
       "      <th>75%</th>\n",
       "      <td>7515.000000</td>\n",
       "      <td>0.000000</td>\n",
       "    </tr>\n",
       "    <tr>\n",
       "      <th>max</th>\n",
       "      <td>9998.000000</td>\n",
       "      <td>196.010000</td>\n",
       "    </tr>\n",
       "  </tbody>\n",
       "</table>\n",
       "</div>"
      ],
      "text/plain": [
       "           USER_ID      REVENUE\n",
       "count  4783.000000  4783.000000\n",
       "mean   4994.395777     0.110138\n",
       "std    2898.618472     2.948720\n",
       "min       2.000000     0.000000\n",
       "25%    2476.000000     0.000000\n",
       "50%    4975.000000     0.000000\n",
       "75%    7515.000000     0.000000\n",
       "max    9998.000000   196.010000"
      ]
     },
     "execution_count": 12,
     "metadata": {},
     "output_type": "execute_result"
    }
   ],
   "source": [
    "data.describe()"
   ]
  },
  {
   "cell_type": "markdown",
   "id": "2e2c529a",
   "metadata": {},
   "source": [
    "## Анализ"
   ]
  },
  {
   "cell_type": "code",
   "execution_count": 13,
   "id": "e4b771bd",
   "metadata": {},
   "outputs": [],
   "source": [
    "variant = data[data['VARIANT_NAME'] =='variant'].copy(deep=True)\n",
    "control = data[data['VARIANT_NAME'] =='control'].copy(deep=True)"
   ]
  },
  {
   "cell_type": "code",
   "execution_count": 14,
   "id": "943c175c",
   "metadata": {},
   "outputs": [
    {
     "data": {
      "text/html": [
       "<div>\n",
       "<style scoped>\n",
       "    .dataframe tbody tr th:only-of-type {\n",
       "        vertical-align: middle;\n",
       "    }\n",
       "\n",
       "    .dataframe tbody tr th {\n",
       "        vertical-align: top;\n",
       "    }\n",
       "\n",
       "    .dataframe thead th {\n",
       "        text-align: right;\n",
       "    }\n",
       "</style>\n",
       "<table border=\"1\" class=\"dataframe\">\n",
       "  <thead>\n",
       "    <tr style=\"text-align: right;\">\n",
       "      <th></th>\n",
       "      <th>REVENUE</th>\n",
       "    </tr>\n",
       "  </thead>\n",
       "  <tbody>\n",
       "    <tr>\n",
       "      <th>count</th>\n",
       "      <td>2393.000000</td>\n",
       "    </tr>\n",
       "    <tr>\n",
       "      <th>mean</th>\n",
       "      <td>0.065382</td>\n",
       "    </tr>\n",
       "    <tr>\n",
       "      <th>std</th>\n",
       "      <td>0.838523</td>\n",
       "    </tr>\n",
       "    <tr>\n",
       "      <th>min</th>\n",
       "      <td>0.000000</td>\n",
       "    </tr>\n",
       "    <tr>\n",
       "      <th>25%</th>\n",
       "      <td>0.000000</td>\n",
       "    </tr>\n",
       "    <tr>\n",
       "      <th>50%</th>\n",
       "      <td>0.000000</td>\n",
       "    </tr>\n",
       "    <tr>\n",
       "      <th>75%</th>\n",
       "      <td>0.000000</td>\n",
       "    </tr>\n",
       "    <tr>\n",
       "      <th>max</th>\n",
       "      <td>23.040000</td>\n",
       "    </tr>\n",
       "  </tbody>\n",
       "</table>\n",
       "</div>"
      ],
      "text/plain": [
       "           REVENUE\n",
       "count  2393.000000\n",
       "mean      0.065382\n",
       "std       0.838523\n",
       "min       0.000000\n",
       "25%       0.000000\n",
       "50%       0.000000\n",
       "75%       0.000000\n",
       "max      23.040000"
      ]
     },
     "execution_count": 14,
     "metadata": {},
     "output_type": "execute_result"
    }
   ],
   "source": [
    "variant[['REVENUE']].describe()"
   ]
  },
  {
   "cell_type": "code",
   "execution_count": 15,
   "id": "ee1d9145",
   "metadata": {},
   "outputs": [
    {
     "name": "stdout",
     "output_type": "stream",
     "text": [
      "<class 'pandas.core.frame.DataFrame'>\n",
      "Int64Index: 2393 entries, 0 to 9996\n",
      "Data columns (total 3 columns):\n",
      " #   Column        Non-Null Count  Dtype  \n",
      "---  ------        --------------  -----  \n",
      " 0   USER_ID       2393 non-null   int64  \n",
      " 1   VARIANT_NAME  2393 non-null   object \n",
      " 2   REVENUE       2393 non-null   float64\n",
      "dtypes: float64(1), int64(1), object(1)\n",
      "memory usage: 74.8+ KB\n"
     ]
    }
   ],
   "source": [
    "variant.info()"
   ]
  },
  {
   "cell_type": "code",
   "execution_count": 16,
   "id": "f4ffdd49",
   "metadata": {},
   "outputs": [
    {
     "data": {
      "text/html": [
       "<div>\n",
       "<style scoped>\n",
       "    .dataframe tbody tr th:only-of-type {\n",
       "        vertical-align: middle;\n",
       "    }\n",
       "\n",
       "    .dataframe tbody tr th {\n",
       "        vertical-align: top;\n",
       "    }\n",
       "\n",
       "    .dataframe thead th {\n",
       "        text-align: right;\n",
       "    }\n",
       "</style>\n",
       "<table border=\"1\" class=\"dataframe\">\n",
       "  <thead>\n",
       "    <tr style=\"text-align: right;\">\n",
       "      <th></th>\n",
       "      <th>REVENUE</th>\n",
       "    </tr>\n",
       "  </thead>\n",
       "  <tbody>\n",
       "    <tr>\n",
       "      <th>count</th>\n",
       "      <td>2390.000000</td>\n",
       "    </tr>\n",
       "    <tr>\n",
       "      <th>mean</th>\n",
       "      <td>0.154950</td>\n",
       "    </tr>\n",
       "    <tr>\n",
       "      <th>std</th>\n",
       "      <td>4.086128</td>\n",
       "    </tr>\n",
       "    <tr>\n",
       "      <th>min</th>\n",
       "      <td>0.000000</td>\n",
       "    </tr>\n",
       "    <tr>\n",
       "      <th>25%</th>\n",
       "      <td>0.000000</td>\n",
       "    </tr>\n",
       "    <tr>\n",
       "      <th>50%</th>\n",
       "      <td>0.000000</td>\n",
       "    </tr>\n",
       "    <tr>\n",
       "      <th>75%</th>\n",
       "      <td>0.000000</td>\n",
       "    </tr>\n",
       "    <tr>\n",
       "      <th>max</th>\n",
       "      <td>196.010000</td>\n",
       "    </tr>\n",
       "  </tbody>\n",
       "</table>\n",
       "</div>"
      ],
      "text/plain": [
       "           REVENUE\n",
       "count  2390.000000\n",
       "mean      0.154950\n",
       "std       4.086128\n",
       "min       0.000000\n",
       "25%       0.000000\n",
       "50%       0.000000\n",
       "75%       0.000000\n",
       "max     196.010000"
      ]
     },
     "execution_count": 16,
     "metadata": {},
     "output_type": "execute_result"
    }
   ],
   "source": [
    "control[['REVENUE']].describe()"
   ]
  },
  {
   "cell_type": "code",
   "execution_count": 17,
   "id": "8230a3c9",
   "metadata": {},
   "outputs": [
    {
     "name": "stdout",
     "output_type": "stream",
     "text": [
      "<class 'pandas.core.frame.DataFrame'>\n",
      "Int64Index: 2390 entries, 7 to 9999\n",
      "Data columns (total 3 columns):\n",
      " #   Column        Non-Null Count  Dtype  \n",
      "---  ------        --------------  -----  \n",
      " 0   USER_ID       2390 non-null   int64  \n",
      " 1   VARIANT_NAME  2390 non-null   object \n",
      " 2   REVENUE       2390 non-null   float64\n",
      "dtypes: float64(1), int64(1), object(1)\n",
      "memory usage: 74.7+ KB\n"
     ]
    }
   ],
   "source": [
    "control.info()"
   ]
  },
  {
   "cell_type": "markdown",
   "id": "5c256793",
   "metadata": {},
   "source": [
    "Получим значения, которые потребуются для расчета мощности теста"
   ]
  },
  {
   "cell_type": "code",
   "execution_count": 18,
   "id": "c51f7114",
   "metadata": {},
   "outputs": [
    {
     "name": "stdout",
     "output_type": "stream",
     "text": [
      "Среднее значение в контрольной выборке 0.06538236523192645 \n",
      " стандартное отклонение 0.83852331659978\n",
      "Среднее значение в тестовой выборке 0.1549497907949791 \n",
      " стандартное отклонение 4.0861281090276265\n"
     ]
    }
   ],
   "source": [
    "variant_mean = variant.describe().loc['mean','REVENUE']\n",
    "variant_std = variant.describe().loc['std','REVENUE']\n",
    "control_mean = control.describe().loc['mean','REVENUE']\n",
    "control_std = control.describe().loc['std','REVENUE']\n",
    "\n",
    "print(f'Среднее значение в контрольной выборке {variant_mean} \\n стандартное отклонение {variant_std}')\n",
    "print(f'Среднее значение в тестовой выборке {control_mean} \\n стандартное отклонение {control_std}')"
   ]
  },
  {
   "cell_type": "markdown",
   "id": "e36d78df",
   "metadata": {},
   "source": [
    "Сравнив контрольную и тестовую группы по показателю 'доход' ('REVENUE'), видим, отличия в средних значениях и максимальных. Сильное различие в максимальных значениях может свидетельствовать о наличии 'выбросов'. Разницы в полученном доходе практически нет. По своему размеру выборки почти идентичны."
   ]
  },
  {
   "cell_type": "markdown",
   "id": "b2b74881",
   "metadata": {},
   "source": [
    "### Визуализация"
   ]
  },
  {
   "cell_type": "code",
   "execution_count": 19,
   "id": "ed69ea39",
   "metadata": {},
   "outputs": [
    {
     "data": {
      "image/png": "[encoded data removed]",
      "text/plain": [
       "<Figure size 1170x827 with 1 Axes>"
      ]
     },
     "metadata": {},
     "output_type": "display_data"
    }
   ],
   "source": [
    "plt.figure(figsize = (11.7, 8.27))\n",
    "sns.set_style(\"darkgrid\") \n",
    "plt.hist([variant['REVENUE'], control['REVENUE']], color=['r','b'], alpha=0.5)\n",
    "plt.ticklabel_format(style='plain', axis='x')\n",
    "plt.title('Доход принесенный пользователем');\n",
    "plt.ylabel('Доход');\n",
    "#plt.hist([variant['REVENUE'], control['REVENUE']], color=['r','b'], alpha=0.5)"
   ]
  },
  {
   "cell_type": "code",
   "execution_count": 20,
   "id": "feb37786",
   "metadata": {},
   "outputs": [
    {
     "data": {
      "image/png": "[encoded data removed]",
      "text/plain": [
       "<Figure size 1170x827 with 1 Axes>"
      ]
     },
     "metadata": {},
     "output_type": "display_data"
    }
   ],
   "source": [
    "plt.figure(figsize = (11.7, 8.27))\n",
    "sns.boxplot(x=data['VARIANT_NAME'], y=data['REVENUE'], data=data)\n",
    "plt.show()"
   ]
  },
  {
   "cell_type": "markdown",
   "id": "ea802489",
   "metadata": {},
   "source": [
    "Визуализация подверждает наличие 'выброса'"
   ]
  },
  {
   "cell_type": "markdown",
   "id": "daba8e8e",
   "metadata": {},
   "source": [
    "### Проверка данных на нормальность распределения"
   ]
  },
  {
   "cell_type": "markdown",
   "id": "428956b4",
   "metadata": {},
   "source": [
    "Проверим данные на нормальность с помощью критерия Шапиро-Уилка и графическим методом с использованием Q-Q plot"
   ]
  },
  {
   "cell_type": "code",
   "execution_count": 21,
   "id": "8c6df151",
   "metadata": {},
   "outputs": [
    {
     "data": {
      "text/plain": [
       "ShapiroResult(statistic=0.015025436878204346, pvalue=0.0)"
      ]
     },
     "execution_count": 21,
     "metadata": {},
     "output_type": "execute_result"
    }
   ],
   "source": [
    "stats.shapiro(control['REVENUE'])"
   ]
  },
  {
   "cell_type": "code",
   "execution_count": 22,
   "id": "f29f203f",
   "metadata": {},
   "outputs": [
    {
     "data": {
      "image/png": "[encoded data removed]",
      "text/plain": [
       "<Figure size 640x480 with 1 Axes>"
      ]
     },
     "metadata": {},
     "output_type": "display_data"
    }
   ],
   "source": [
    "stats.probplot(control['REVENUE'], dist=\"norm\", plot=plt)\n",
    "plt.show()"
   ]
  },
  {
   "cell_type": "markdown",
   "id": "d9ffeb3c",
   "metadata": {},
   "source": [
    "Результаты анализа подтверждают, что данные текущей версии распределены не нормально. По критерию Шапиро-Уилка значение P-value < alpha (5%.)"
   ]
  },
  {
   "cell_type": "code",
   "execution_count": 23,
   "id": "e4194a8b",
   "metadata": {},
   "outputs": [
    {
     "data": {
      "text/plain": [
       "ShapiroResult(statistic=0.0516657829284668, pvalue=0.0)"
      ]
     },
     "execution_count": 23,
     "metadata": {},
     "output_type": "execute_result"
    }
   ],
   "source": [
    "stats.shapiro(variant['REVENUE'])"
   ]
  },
  {
   "cell_type": "code",
   "execution_count": 24,
   "id": "51e25746",
   "metadata": {},
   "outputs": [
    {
     "data": {
      "image/png": "[encoded data removed]",
      "text/plain": [
       "<Figure size 640x480 with 1 Axes>"
      ]
     },
     "metadata": {},
     "output_type": "display_data"
    }
   ],
   "source": [
    "stats.probplot(variant['REVENUE'], dist=\"norm\", plot=plt)\n",
    "plt.show()"
   ]
  },
  {
   "cell_type": "markdown",
   "id": "4fa81c81",
   "metadata": {},
   "source": [
    "Результаты анализа подтверждают, что данные в тестовой выборке тоже не имеют нормального распределения. По критерию Шапиро-Уилка значение P-value < alpha (5%.)"
   ]
  },
  {
   "cell_type": "markdown",
   "id": "f88c0683",
   "metadata": {},
   "source": [
    "### Сравнение выборок"
   ]
  },
  {
   "cell_type": "code",
   "execution_count": 25,
   "id": "3cc88b0a",
   "metadata": {},
   "outputs": [
    {
     "data": {
      "text/plain": [
       "Ttest_indResult(statistic=-1.049762021384409, pvalue=0.293925496211077)"
      ]
     },
     "execution_count": 25,
     "metadata": {},
     "output_type": "execute_result"
    }
   ],
   "source": [
    "stats.ttest_ind(variant['REVENUE'],control['REVENUE'], equal_var = False)"
   ]
  },
  {
   "cell_type": "code",
   "execution_count": 26,
   "id": "befe0bc5",
   "metadata": {},
   "outputs": [
    {
     "data": {
      "text/plain": [
       "MannwhitneyuResult(statistic=2852373.0, pvalue=0.47685753584007984)"
      ]
     },
     "execution_count": 26,
     "metadata": {},
     "output_type": "execute_result"
    }
   ],
   "source": [
    "stats.mannwhitneyu(variant['REVENUE'],control['REVENUE'])"
   ]
  },
  {
   "cell_type": "markdown",
   "id": "081db1a9",
   "metadata": {},
   "source": [
    "По полученным результатам, видим что p-value > уровня статистической значимости, а значит нулевая гипотеза о том, что стастически значимых отличий между выборками нет верна."
   ]
  },
  {
   "cell_type": "markdown",
   "id": "e0058e5b",
   "metadata": {},
   "source": [
    "### Расчет мощности теста"
   ]
  },
  {
   "cell_type": "code",
   "execution_count": 27,
   "id": "10611812",
   "metadata": {},
   "outputs": [
    {
     "name": "stdout",
     "output_type": "stream",
     "text": [
      "2390 2393\n"
     ]
    }
   ],
   "source": [
    "print(len(control.REVENUE.values), len(variant.REVENUE.values))"
   ]
  },
  {
   "cell_type": "code",
   "execution_count": 28,
   "id": "9a1e96bf",
   "metadata": {},
   "outputs": [],
   "source": [
    "n = len(control.REVENUE.values)"
   ]
  },
  {
   "cell_type": "code",
   "execution_count": 29,
   "id": "4a02a096",
   "metadata": {},
   "outputs": [
    {
     "name": "stdout",
     "output_type": "stream",
     "text": [
      "2.949539309440305\n"
     ]
    }
   ],
   "source": [
    "s_pooled = np.sqrt((control_std**2 + variant_std**2)/2)\n",
    "print(s_pooled)"
   ]
  },
  {
   "cell_type": "code",
   "execution_count": 30,
   "id": "6fa4bc50",
   "metadata": {},
   "outputs": [
    {
     "name": "stdout",
     "output_type": "stream",
     "text": [
      "0.03036658141031816\n"
     ]
    }
   ],
   "source": [
    "effect =float((control_mean - variant_mean)/s_pooled)\n",
    "print(effect)"
   ]
  },
  {
   "cell_type": "code",
   "execution_count": 31,
   "id": "8844d10a",
   "metadata": {},
   "outputs": [
    {
     "name": "stdout",
     "output_type": "stream",
     "text": [
      "(0.030370577211908504, 0.0008363920426140521)\n"
     ]
    }
   ],
   "source": [
    "#подсчет с помощью встроенной функции\n",
    "ef1 = effectsize_smd(control_mean,control_std,len(control.REVENUE.values),variant_mean,variant_std,len(variant.REVENUE.values))\n",
    "print(ef1)"
   ]
  },
  {
   "cell_type": "code",
   "execution_count": 32,
   "id": "0f5ac61e",
   "metadata": {},
   "outputs": [
    {
     "name": "stdout",
     "output_type": "stream",
     "text": [
      "0.18260381671210682 0.8173961832878932\n"
     ]
    }
   ],
   "source": [
    "alpha = 0.05\n",
    "result_power = tt_ind_solve_power(effect, power = None, nobs1 = n, ratio = 1.0, alpha = alpha)\n",
    "result_power\n",
    "beta = 1-result_power\n",
    "print(result_power,beta)"
   ]
  },
  {
   "cell_type": "markdown",
   "id": "069cc268",
   "metadata": {},
   "source": [
    "### Проверка через функцию\n"
   ]
  },
  {
   "cell_type": "code",
   "execution_count": 33,
   "id": "2c2a299d",
   "metadata": {},
   "outputs": [],
   "source": [
    "def continious_result(control: pd.DataFrame,\n",
    "                      treatment: pd.DataFrame,\n",
    "                      column: str,\n",
    "                      n_iters: int = 10_000) -> pd.DataFrame:\n",
    "    # Статистика по выборкам\n",
    "    size = control.loc[:, column].shape[0]\n",
    "    \n",
    "    control_mean = control.loc[:, column].mean()\n",
    "    treatment_mean = treatment.loc[:, column].mean()\n",
    "    \n",
    "    control_std = control.loc[:, column].std(ddof=1)\n",
    "    treatment_std = treatment.loc[:, column].std(ddof=1)\n",
    "    \n",
    "    # Бутсрап\n",
    "    booted_diff = []\n",
    "    for _ in tqdm(range(n_iters)):\n",
    "        control_sample = control.loc[:, column].sample(n=size, replace=True).values\n",
    "        treatment_sample = treatment.loc[:, column].sample(n=size, replace=True).values\n",
    "        booted_diff.append(np.mean(control_sample - treatment_sample))\n",
    "    \n",
    "    # Считаем статистику после бустрапа\n",
    "    md_ci, std_ci = np.mean(booted_diff), np.std(booted_diff, ddof=1)\n",
    "    left_ci, right_ci = np.percentile(booted_diff, [2.5, 97.5])\n",
    "    p_value_ci = 2 * (1 - stats.norm.cdf(np.abs(md_ci / std_ci)))\n",
    "    \n",
    "    # Считаем мощность эксперимента\n",
    "    effect_size, _ = effectsize_smd(mean1=treatment_mean, sd1=treatment_std, nobs1=size,\n",
    "                                    mean2=control_mean, sd2=control_std, nobs2=size)\n",
    "    power = tt_ind_solve_power(effect_size=effect_size,\n",
    "                               nobs1=size,\n",
    "                               alpha=.05,\n",
    "                               power=None,\n",
    "                               ratio=1)\n",
    "    # Формируем отчёт \n",
    "    result = pd.DataFrame({'effect_size': effect_size,\n",
    "                           'alpha': p_value_ci, \n",
    "                           'beta': (1-power),\n",
    "                           'CI': f'[{np.round(left_ci, 3)}, {np.round(right_ci, 3)}]',\n",
    "                           'difference': md_ci,},\n",
    "                          index=[column]) \n",
    "    return result"
   ]
  },
  {
   "cell_type": "code",
   "execution_count": 34,
   "id": "ad36c605",
   "metadata": {},
   "outputs": [
    {
     "name": "stderr",
     "output_type": "stream",
     "text": [
      "100%|██████████████████████████████████████████████████████████████████████████| 10000/10000 [00:07<00:00, 1401.89it/s]\n"
     ]
    },
    {
     "data": {
      "text/html": [
       "<div>\n",
       "<style scoped>\n",
       "    .dataframe tbody tr th:only-of-type {\n",
       "        vertical-align: middle;\n",
       "    }\n",
       "\n",
       "    .dataframe tbody tr th {\n",
       "        vertical-align: top;\n",
       "    }\n",
       "\n",
       "    .dataframe thead th {\n",
       "        text-align: right;\n",
       "    }\n",
       "</style>\n",
       "<table border=\"1\" class=\"dataframe\">\n",
       "  <thead>\n",
       "    <tr style=\"text-align: right;\">\n",
       "      <th></th>\n",
       "      <th>effect_size</th>\n",
       "      <th>alpha</th>\n",
       "      <th>beta</th>\n",
       "      <th>CI</th>\n",
       "      <th>difference</th>\n",
       "    </tr>\n",
       "  </thead>\n",
       "  <tbody>\n",
       "    <tr>\n",
       "      <th>REVENUE</th>\n",
       "      <td>0.030362</td>\n",
       "      <td>0.297858</td>\n",
       "      <td>0.817268</td>\n",
       "      <td>[-0.299, 0.028]</td>\n",
       "      <td>-0.09062</td>\n",
       "    </tr>\n",
       "  </tbody>\n",
       "</table>\n",
       "</div>"
      ],
      "text/plain": [
       "         effect_size     alpha      beta               CI  difference\n",
       "REVENUE     0.030362  0.297858  0.817268  [-0.299, 0.028]    -0.09062"
      ]
     },
     "execution_count": 34,
     "metadata": {},
     "output_type": "execute_result"
    }
   ],
   "source": [
    "continious_result(variant,control, column='REVENUE')"
   ]
  },
  {
   "cell_type": "markdown",
   "id": "026b0b57",
   "metadata": {},
   "source": [
    "### Выводы"
   ]
  },
  {
   "cell_type": "markdown",
   "id": "9a99760c",
   "metadata": {},
   "source": [
    "*    После сравнения контрольной и тестовой групп, статистических различий не наблюдается\n",
    "* Значение p-value >5%, вероятность получить ошибку второго рода beta = 81%, доверительный интервал включает в себя нулевое значение.\n",
    "*    В исходном наборе данных обнаружены ошибки (много повторных значений, пользователи находились одновременно в обоих группах). \n",
    "* Рекомендуется провести A/A тест для проверки корректной работы системы сплитования. \n",
    "*   При необходимости в подобном тестировании, внести корректировки в настройки A/B теста.\n",
    "* Повторно провести A/B тестирование. "
   ]
  },
  {
   "cell_type": "code",
   "execution_count": null,
   "id": "da035685",
   "metadata": {},
   "outputs": [],
   "source": []
  },
  {
   "cell_type": "code",
   "execution_count": null,
   "id": "e2bbfaa0",
   "metadata": {},
   "outputs": [],
   "source": []
  }
 ],
 "metadata": {
  "kernelspec": {
   "display_name": "Python 3 (ipykernel)",
   "language": "python",
   "name": "python3"
  },
  "language_info": {
   "codemirror_mode": {
    "name": "ipython",
    "version": 3
   },
   "file_extension": ".py",
   "mimetype": "text/x-python",
   "name": "python",
   "nbconvert_exporter": "python",
   "pygments_lexer": "ipython3",
   "version": "3.9.13"
  }
 },
 "nbformat": 4,
 "nbformat_minor": 5
}
